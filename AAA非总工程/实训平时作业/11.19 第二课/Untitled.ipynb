{
 "cells": [
  {
   "cell_type": "code",
   "execution_count": null,
   "metadata": {},
   "outputs": [],
   "source": [
    "import cv2\n",
    "img=cv2.imgread(\"00016.png\")\n",
    "print(img.shape)\n",
    "(720,1280,3)"
   ]
  },
  {
   "cell_type": "markdown",
   "metadata": {},
   "source": [
    "$$h(x,y)=\\sum_{(i,j)\\in"
   ]
  },
  {
   "cell_type": "code",
   "execution_count": null,
   "metadata": {},
   "outputs": [],
   "source": [
    "```python\n",
    "    dst=cv.filter2D(\n",
    "        src,#\n",
    "        depth,#输出图像的深度，通道，类型，-1为深度相同\n",
    "        kernal,#卷积核：f（i,j）\n",
    "        dst,#输出\n",
    "        anchor,#kernal与原图像的参照点\n",
    "        delta,#偏移值，改变灰度\n",
    "        borderType#\n",
    "    )\n",
    "```"
   ]
  },
  {
   "cell_type": "code",
   "execution_count": null,
   "metadata": {},
   "outputs": [],
   "source": [
    "import cv2\n",
    "\n",
    "src=cv2.imread(\"00016.jpg\")\n",
    "\n",
    "kernel=numpy.array([\n",
    "    [-1,0,1],\n",
    "    [-1,0,1],\n",
    "    [-1,0,1]\n",
    "])\n",
    "\n",
    "dst=cv2.filter2D(scr,-1,kernel,delta=0)"
   ]
  }
 ],
 "metadata": {
  "kernelspec": {
   "display_name": "Python 3",
   "language": "python",
   "name": "python3"
  },
  "language_info": {
   "codemirror_mode": {
    "name": "ipython",
    "version": 3
   },
   "file_extension": ".py",
   "mimetype": "text/x-python",
   "name": "python",
   "nbconvert_exporter": "python",
   "pygments_lexer": "ipython3",
   "version": "3.6.6"
  }
 },
 "nbformat": 4,
 "nbformat_minor": 4
}
