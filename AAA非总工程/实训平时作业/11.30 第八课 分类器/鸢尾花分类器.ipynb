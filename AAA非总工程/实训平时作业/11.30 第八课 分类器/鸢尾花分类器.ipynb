{
 "cells": [
  {
   "cell_type": "code",
   "execution_count": 3,
   "metadata": {},
   "outputs": [
    {
     "name": "stderr",
     "output_type": "stream",
     "text": [
      "c:\\program files\\python36\\lib\\site-packages\\torch\\autograd\\__init__.py:132: UserWarning: CUDA initialization: Found no NVIDIA driver on your system. Please check that you have an NVIDIA GPU and installed a driver from http://www.nvidia.com/Download/index.aspx (Triggered internally at  ..\\c10\\cuda\\CUDAFunctions.cpp:100.)\n",
      "  allow_unreachable=True)  # allow_unreachable flag\n"
     ]
    },
    {
     "name": "stdout",
     "output_type": "stream",
     "text": [
      "损失值：7.526178, 正确率：   50.00\n",
      "损失值：5.930971, 正确率：   50.00\n",
      "损失值：4.338259, 正确率：   50.00\n",
      "损失值：2.770867, 正确率：   50.00\n",
      "损失值：1.433118, 正确率：   50.00\n",
      "损失值：0.856299, 正确率：   47.00\n",
      "损失值：0.737259, 正确率：   36.00\n",
      "损失值：0.684894, 正确率：   51.00\n",
      "损失值：0.641973, 正确率：   62.00\n",
      "损失值：0.603238, 正确率：   72.00\n",
      "损失值：0.567931, 正确率：   85.00\n",
      "损失值：0.535700, 正确率：   92.00\n",
      "损失值：0.506243, 正确率：   94.00\n",
      "损失值：0.479288, 正确率：   98.00\n",
      "损失值：0.454586, 正确率：  100.00\n",
      "损失值：0.431912, 正确率：  100.00\n",
      "损失值：0.411066, 正确率：  100.00\n",
      "损失值：0.391866, 正确率：  100.00\n",
      "损失值：0.374151, 正确率：  100.00\n",
      "损失值：0.357775, 正确率：  100.00\n",
      "损失值：0.342612, 正确率：  100.00\n",
      "损失值：0.328544, 正确率：  100.00\n",
      "损失值：0.315470, 正确率：  100.00\n",
      "损失值：0.303297, 正确率：  100.00\n",
      "损失值：0.291946, 正确率：  100.00\n",
      "损失值：0.281342, 正确率：  100.00\n",
      "损失值：0.271419, 正确率：  100.00\n",
      "损失值：0.262118, 正确率：  100.00\n",
      "损失值：0.253389, 正确率：  100.00\n",
      "损失值：0.245185, 正确率：  100.00\n",
      "损失值：0.237460, 正确率：  100.00\n",
      "损失值：0.230176, 正确率：  100.00\n",
      "损失值：0.223303, 正确率：  100.00\n",
      "损失值：0.216805, 正确率：  100.00\n",
      "损失值：0.210654, 正确率：  100.00\n",
      "损失值：0.204824, 正确率：  100.00\n",
      "损失值：0.199298, 正确率：  100.00\n",
      "损失值：0.194047, 正确率：  100.00\n",
      "损失值：0.189054, 正确率：  100.00\n",
      "损失值：0.184301, 正确率：  100.00\n",
      "损失值：0.179771, 正确率：  100.00\n",
      "损失值：0.175454, 正确率：  100.00\n",
      "损失值：0.171332, 正确率：  100.00\n",
      "损失值：0.167393, 正确率：  100.00\n",
      "损失值：0.163625, 正确率：  100.00\n",
      "损失值：0.160017, 正确率：  100.00\n",
      "损失值：0.156561, 正确率：  100.00\n",
      "损失值：0.153249, 正确率：  100.00\n",
      "损失值：0.150072, 正确率：  100.00\n",
      "损失值：0.147021, 正确率：  100.00\n"
     ]
    }
   ],
   "source": [
    "from sklearn.datasets import load_iris\n",
    "import numpy\n",
    "import torch\n",
    "\n",
    "data, target = load_iris(return_X_y=True)\n",
    "x = torch.Tensor(data[:100])   # FloatTensor = Tensor\n",
    "y = torch.Tensor(target[:100]).view(100, 1)\n",
    "w = torch.randn(1, 4)\n",
    "b = torch.randn(1)\n",
    "\n",
    "w.requires_grad= True\n",
    "b.requires_grad= True\n",
    "\n",
    "epoch = 50000\n",
    "lr = 0.0001\n",
    "\n",
    "for n in range(epoch):\n",
    "    # 预测\n",
    "    y_ = torch.nn.functional.linear(x, weight=w, bias=b)\n",
    "    y_ = torch.sigmoid(y_)\n",
    "    # 计算损失\n",
    "    loss = torch.nn.functional.binary_cross_entropy(y_, y)\n",
    "    # 求导\n",
    "    loss.backward()\n",
    "    # 更新\n",
    "    with torch.no_grad():\n",
    "        w -= lr * w.grad\n",
    "        b -= lr * b.grad\n",
    "        # 清空导数\n",
    "        w.grad.zero_()\n",
    "        b.grad.zero_()\n",
    "        \n",
    "        y_[ y_ >  0.5] = 1\n",
    "        y_[ y_ <= 0.5] = 0\n",
    "        \n",
    "        corr_rate = (y == y_).float().mean()\n",
    "    if n % 1000 ==0:\n",
    "        print(f\"损失值：{loss:8.6f}, 正确率：{corr_rate * 100: 8.2f}\")"
   ]
  },
  {
   "cell_type": "code",
   "execution_count": null,
   "metadata": {},
   "outputs": [],
   "source": []
  }
 ],
 "metadata": {
  "kernelspec": {
   "display_name": "Python 3",
   "language": "python",
   "name": "python3"
  },
  "language_info": {
   "codemirror_mode": {
    "name": "ipython",
    "version": 3
   },
   "file_extension": ".py",
   "mimetype": "text/x-python",
   "name": "python",
   "nbconvert_exporter": "python",
   "pygments_lexer": "ipython3",
   "version": "3.6.6"
  }
 },
 "nbformat": 4,
 "nbformat_minor": 4
}
